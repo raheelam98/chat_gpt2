{
 "cells": [
  {
   "cell_type": "markdown",
   "metadata": {},
   "source": [
    "### install packages from `requirements.txt`\n",
    "`pip install -r requirements.txt`"
   ]
  },
  {
   "cell_type": "code",
   "execution_count": 25,
   "metadata": {},
   "outputs": [
    {
     "name": "stdout",
     "output_type": "stream",
     "text": [
      "Pakistan 6\n"
     ]
    }
   ],
   "source": [
    "print(\"Pakistan 6\")"
   ]
  },
  {
   "cell_type": "markdown",
   "metadata": {},
   "source": [
    "### Understand Chat Completion API\n",
    "\n",
    "https://platform.openai.com/docs/guides/text-generation/chat-completions-api\n",
    "\n",
    "https://platform.openai.com/docs/api-reference/chat "
   ]
  },
  {
   "cell_type": "code",
   "execution_count": 26,
   "metadata": {},
   "outputs": [
    {
     "name": "stdout",
     "output_type": "stream",
     "text": [
      "pakistan zinda bad tester4\n",
      "pakistan zinda bad tester4\n"
     ]
    }
   ],
   "source": [
    "def myfn()->str:\n",
    "    return 'pakistan zinda bad tester4'\n",
    "\n",
    "b : str = myfn()\n",
    "print(b)\n",
    "print(b)"
   ]
  },
  {
   "cell_type": "markdown",
   "metadata": {},
   "source": [
    "_ “under score” before variable (python ) :- use variable only one-time"
   ]
  },
  {
   "cell_type": "code",
   "execution_count": 1,
   "metadata": {},
   "outputs": [],
   "source": [
    "def myfn()->str:\n",
    "    return 'pakistan zinda bad check'\n",
    "\n",
    "_ : str = myfn()\n"
   ]
  },
  {
   "cell_type": "code",
   "execution_count": 2,
   "metadata": {},
   "outputs": [],
   "source": [
    "from openai import OpenAI\n",
    "from dotenv import load_dotenv, find_dotenv\n",
    "import os\n",
    "\n",
    "_ : bool = load_dotenv(find_dotenv()) # read local .env file\n",
    "\n",
    "client : OpenAI = OpenAI()\n"
   ]
  },
  {
   "cell_type": "markdown",
   "metadata": {},
   "source": [
    "check it is connected to open ai "
   ]
  },
  {
   "cell_type": "code",
   "execution_count": 3,
   "metadata": {},
   "outputs": [
    {
     "name": "stdout",
     "output_type": "stream",
     "text": [
      "Raheela_hellow_world\n"
     ]
    }
   ],
   "source": [
    "print(os.getenv(\"MY_NAME\"))"
   ]
  },
  {
   "cell_type": "markdown",
   "metadata": {},
   "source": [
    "prompt with single elements"
   ]
  },
  {
   "cell_type": "code",
   "execution_count": null,
   "metadata": {},
   "outputs": [],
   "source": [
    "from openai.types.chat.chat_completion import ChatCompletion\n",
    "\n",
    "def chat_completion(prompt: str) -> str:\n",
    "    \"\"\"\n",
    "    This function calls the OpenAI chat completion API to respond to a prompt.\n",
    "\n",
    "    **Note:** This function doesn't handle rate limiting. Consider implementing\n",
    "             logic to check your quota usage and potentially add delays or retries\n",
    "             if the quota is nearing its limit.\n",
    "    \"\"\"\n",
    "    response: ChatCompletion = client.chat.completions.create(\n",
    "        messages=[\n",
    "            {\n",
    "                \"role\": \"user\",\n",
    "                \"content\": prompt,\n",
    "            }\n",
    "        ],\n",
    "        model=\"gpt-3.5-turbo-1106\",\n",
    "    )\n",
    "    # Print the full response for debugging purposes (optional)\n",
    "    # print(response)\n",
    "    return response.choices[0].message.content\n",
    "\n",
    "# Example usage (assuming you've handled API key and potential rate limiting)\n",
    "chat_completion(\"what is 1+1?\")"
   ]
  },
  {
   "cell_type": "code",
   "execution_count": null,
   "metadata": {},
   "outputs": [],
   "source": [
    "from openai.types.chat.chat_completion import ChatCompletion\n",
    "\n",
    "def chat_completion(prompt : str )-> ChatCompletion:\n",
    " response : ChatCompletion = client.chat.completions.create(\n",
    "        messages=[\n",
    "            {\n",
    "                \"role\": \"user\",\n",
    "                \"content\": prompt,\n",
    "            }\n",
    "        ],\n",
    "        model=\"gpt-3.5-turbo-1106\",\n",
    "    )\n",
    "# print(response)\n",
    "#  print(response.choices[0].message.content)\n",
    " # return response.choices[0].message.content\n",
    " return response\n",
    "output : ChatCompletion = chat_completion(\"what is 1+2?\")"
   ]
  },
  {
   "cell_type": "code",
   "execution_count": null,
   "metadata": {},
   "outputs": [
    {
     "data": {
      "text/plain": [
       "'1+2 equals 3.'"
      ]
     },
     "execution_count": 27,
     "metadata": {},
     "output_type": "execute_result"
    }
   ],
   "source": [
    "output.choices[0].message.content"
   ]
  },
  {
   "cell_type": "code",
   "execution_count": null,
   "metadata": {},
   "outputs": [
    {
     "name": "stdout",
     "output_type": "stream",
     "text": [
      "('{\"id\":\"chatcmpl-9WnHFTB0zZMtCOYN88ju9UNPYAnqj\",\"choices\":[{\"finish_reason\":\"stop\",\"index\":0,\"logprobs\":null,\"message\":{\"content\":\"1+2 '\n",
      " 'equals '\n",
      " '3.\",\"role\":\"assistant\",\"function_call\":null,\"tool_calls\":null}}],\"created\":1717602945,\"model\":\"gpt-3.5-turbo-1106\",\"object\":\"chat.completion\",\"system_fingerprint\":null,\"usage\":{\"completion_tokens\":7,\"prompt_tokens\":14,\"total_tokens\":21}}')\n"
     ]
    }
   ],
   "source": [
    "import pprint\n",
    "#chatcmpl-9Wn59GV4Y59Tgp47JBNvlSgtaQEen\n",
    "#chatcmpl-9WnHFTB0zZMtCOYN88ju9UNPYAnqj\n",
    "pprint.pprint(output.json())"
   ]
  }
 ],
 "metadata": {
  "kernelspec": {
   "display_name": "Python 3 (ipykernel)",
   "language": "python",
   "name": "python3"
  },
  "language_info": {
   "codemirror_mode": {
    "name": "ipython",
    "version": 3
   },
   "file_extension": ".py",
   "mimetype": "text/x-python",
   "name": "python",
   "nbconvert_exporter": "python",
   "pygments_lexer": "ipython3",
   "version": "3.12.0"
  }
 },
 "nbformat": 4,
 "nbformat_minor": 4
}
